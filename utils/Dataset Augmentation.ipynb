{
 "cells": [
  {
   "cell_type": "code",
   "execution_count": 1,
   "metadata": {
    "colab": {
     "base_uri": "https://localhost:8080/",
     "height": 122
    },
    "colab_type": "code",
    "executionInfo": {
     "elapsed": 62088,
     "status": "ok",
     "timestamp": 1592402461116,
     "user": {
      "displayName": "Nate Peters",
      "photoUrl": "",
      "userId": "02817882008307922647"
     },
     "user_tz": 300
    },
    "id": "-eeMjMQuTwU6",
    "outputId": "222b17ce-3768-4b17-f865-343a8e41679f"
   },
   "outputs": [
    {
     "name": "stdout",
     "output_type": "stream",
     "text": [
      "Go to this URL in a browser: https://accounts.google.com/o/oauth2/auth?client_id=947318989803-6bn6qk8qdgf4n4g3pfee6491hc0brc4i.apps.googleusercontent.com&redirect_uri=urn%3aietf%3awg%3aoauth%3a2.0%3aoob&response_type=code&scope=email%20https%3a%2f%2fwww.googleapis.com%2fauth%2fdocs.test%20https%3a%2f%2fwww.googleapis.com%2fauth%2fdrive%20https%3a%2f%2fwww.googleapis.com%2fauth%2fdrive.photos.readonly%20https%3a%2f%2fwww.googleapis.com%2fauth%2fpeopleapi.readonly\n",
      "\n",
      "Enter your authorization code:\n",
      "··········\n",
      "Mounted at /content/drive\n"
     ]
    }
   ],
   "source": [
    "from google.colab import drive\n",
    "drive.mount('/content/drive')"
   ]
  },
  {
   "cell_type": "code",
   "execution_count": 3,
   "metadata": {
    "colab": {
     "base_uri": "https://localhost:8080/",
     "height": 173
    },
    "colab_type": "code",
    "executionInfo": {
     "elapsed": 4619,
     "status": "ok",
     "timestamp": 1592402488696,
     "user": {
      "displayName": "Nate Peters",
      "photoUrl": "",
      "userId": "02817882008307922647"
     },
     "user_tz": 300
    },
    "id": "2iXBQ4xs8eCV",
    "outputId": "326c4510-66ab-4e51-d31e-9e99923ba516"
   },
   "outputs": [
    {
     "name": "stdout",
     "output_type": "stream",
     "text": [
      "Requirement already satisfied: Augmentor in /home/user1/anaconda3/envs/pix2pix/lib/python3.10/site-packages (0.2.10)\n",
      "Requirement already satisfied: tqdm>=4.9.0 in /home/user1/anaconda3/envs/pix2pix/lib/python3.10/site-packages (from Augmentor) (4.64.1)\n",
      "Requirement already satisfied: Pillow>=5.2.0 in /home/user1/anaconda3/envs/pix2pix/lib/python3.10/site-packages (from Augmentor) (9.4.0)\n",
      "Requirement already satisfied: future>=0.16.0 in /home/user1/anaconda3/envs/pix2pix/lib/python3.10/site-packages (from Augmentor) (0.18.3)\n",
      "Requirement already satisfied: numpy>=1.11.0 in /home/user1/anaconda3/envs/pix2pix/lib/python3.10/site-packages (from Augmentor) (1.24.2)\n",
      "Requirement already satisfied: numpy in /home/user1/anaconda3/envs/pix2pix/lib/python3.10/site-packages (1.24.2)\n",
      "Requirement already satisfied: Pillow in /home/user1/anaconda3/envs/pix2pix/lib/python3.10/site-packages (9.4.0)\n"
     ]
    }
   ],
   "source": [
    "!pip install Augmentor\n",
    "!pip install numpy \n",
    "!pip install Pillow "
   ]
  },
  {
   "cell_type": "code",
   "execution_count": 2,
   "metadata": {
    "colab": {},
    "colab_type": "code",
    "executionInfo": {
     "elapsed": 331,
     "status": "ok",
     "timestamp": 1592402489763,
     "user": {
      "displayName": "Nate Peters",
      "photoUrl": "",
      "userId": "02817882008307922647"
     },
     "user_tz": 300
    },
    "id": "ipF2ZtBu8V5M"
   },
   "outputs": [],
   "source": [
    "import Augmentor\n",
    "import os\n",
    "import shutil\n",
    "from PIL import Image\n",
    "import numpy as np"
   ]
  },
  {
   "cell_type": "markdown",
   "metadata": {
    "colab_type": "text",
    "id": "rtqxt5ArxYDH"
   },
   "source": [
    "Documentation on Augmentor can be found here: https://github.com/mdbloice/Augmentor"
   ]
  },
  {
   "cell_type": "code",
   "execution_count": 9,
   "metadata": {},
   "outputs": [],
   "source": [
    "root = '/Users/MR ARCHITECT/MyFloorPlan/MyGenFloorPlan'"
   ]
  },
  {
   "cell_type": "code",
   "execution_count": 4,
   "metadata": {
    "colab": {},
    "colab_type": "code",
    "executionInfo": {
     "elapsed": 428,
     "status": "ok",
     "timestamp": 1592402491739,
     "user": {
      "displayName": "Nate Peters",
      "photoUrl": "",
      "userId": "02817882008307922647"
     },
     "user_tz": 300
    },
    "id": "IIQJlPQz8V5Q"
   },
   "outputs": [],
   "source": [
    "pathA = root + '/dataset/Original/A'\n",
    "pathB = root + '/dataset/Original/B' "
   ]
  },
  {
   "cell_type": "code",
   "execution_count": 5,
   "metadata": {
    "colab": {
     "base_uri": "https://localhost:8080/",
     "height": 51
    },
    "colab_type": "code",
    "executionInfo": {
     "elapsed": 530,
     "status": "ok",
     "timestamp": 1592402809097,
     "user": {
      "displayName": "Nate Peters",
      "photoUrl": "",
      "userId": "02817882008307922647"
     },
     "user_tz": 300
    },
    "id": "Yi862n0z8V5T",
    "outputId": "f1fb017f-59b2-4f36-c725-42fdef7bbb53"
   },
   "outputs": [
    {
     "name": "stdout",
     "output_type": "stream",
     "text": [
      "Initialised with 104 image(s) found.\n",
      "Output directory set to /Users/MR ARCHITECT/MyFloorPlan/MyGenFloorPlan//dataset/Original/A\\output."
     ]
    },
    {
     "name": "stderr",
     "output_type": "stream",
     "text": [
      "                                                        "
     ]
    },
    {
     "name": "stdout",
     "output_type": "stream",
     "text": [
      "104 ground truth image(s) found.\n"
     ]
    },
    {
     "name": "stderr",
     "output_type": "stream",
     "text": [
      "\r"
     ]
    }
   ],
   "source": [
    "p = Augmentor.Pipeline(pathA)\n",
    "# Point to a directory containing ground truth data.\n",
    "# Images with the same file names will be added as ground truth data\n",
    "# and augmented in parallel to the original data.\n",
    "p.ground_truth(pathB)\n",
    "\n",
    "# Add operations to the pipeline:\n",
    "p.rotate90(probability=0.25)\n",
    "p.rotate270(probability=0.25)\n",
    "p.flip_left_right(probability=0.25)\n",
    "p.flip_top_bottom(probability=0.25)\n"
   ]
  },
  {
   "cell_type": "code",
   "execution_count": 6,
   "metadata": {
    "colab": {
     "base_uri": "https://localhost:8080/",
     "height": 34
    },
    "colab_type": "code",
    "executionInfo": {
     "elapsed": 6874,
     "status": "ok",
     "timestamp": 1592402816762,
     "user": {
      "displayName": "Nate Peters",
      "photoUrl": "",
      "userId": "02817882008307922647"
     },
     "user_tz": 300
    },
    "id": "upIjS6mS8V5X",
    "outputId": "fe3e13f5-891b-4d90-d7b8-77d744eefc61"
   },
   "outputs": [
    {
     "name": "stderr",
     "output_type": "stream",
     "text": [
      "Processing <PIL.PngImagePlugin.PngImageFile image mode=RGBA size=256x256 at 0x25F6F691550>: 100%|██████████| 300/300 [00:00<00:00, 661.47 Samples/s]\n"
     ]
    }
   ],
   "source": [
    "IMAGE_COUNT = 300\n",
    "\n",
    "p.sample(IMAGE_COUNT)"
   ]
  },
  {
   "cell_type": "code",
   "execution_count": null,
   "metadata": {
    "colab": {},
    "colab_type": "code",
    "id": "Z5Yh1EsgwMJO"
   },
   "outputs": [],
   "source": [
    "# Wait a few minutes before continuing to make sure the output images get uploaded to Google Drive, since we'll be \n",
    "# copying and combining them in the next step"
   ]
  },
  {
   "cell_type": "code",
   "execution_count": 11,
   "metadata": {
    "colab": {},
    "colab_type": "code",
    "executionInfo": {
     "elapsed": 265,
     "status": "ok",
     "timestamp": 1592402853431,
     "user": {
      "displayName": "Nate Peters",
      "photoUrl": "",
      "userId": "02817882008307922647"
     },
     "user_tz": 300
    },
    "id": "vzvvtdy3uh_m"
   },
   "outputs": [],
   "source": [
    "newPathA = root + '/dataset/Augmented/A/'\n",
    "newPathB = root + '/dataset/Augmented/B/'\n",
    "combinedPath = root + '/dataset/Augmented/Combined/'"
   ]
  },
  {
   "cell_type": "code",
   "execution_count": null,
   "metadata": {},
   "outputs": [],
   "source": [
    "# !mkdir root + newPathA"
   ]
  },
  {
   "cell_type": "code",
   "execution_count": 13,
   "metadata": {
    "colab": {
     "base_uri": "https://localhost:8080/",
     "height": 71
    },
    "colab_type": "code",
    "executionInfo": {
     "elapsed": 5256,
     "status": "ok",
     "timestamp": 1592402860051,
     "user": {
      "displayName": "Nate Peters",
      "photoUrl": "",
      "userId": "02817882008307922647"
     },
     "user_tz": 300
    },
    "id": "x3-iOicI8V5h",
    "outputId": "62fb67e4-d0d0-45e3-d888-4f3974ef2062"
   },
   "outputs": [
    {
     "name": "stdout",
     "output_type": "stream",
     "text": [
      "A Filenames Found:  ['28baa078b5f6.png', 'a26fbdb59fd4.png', '513a77d31e42.png', '1924f67a75ea.png', '849604b45677.png', '3a6eef3e1d47.png', '34c0b1e63a86.png', 'afff91894ee7.png', '0afd7614dc34.png', '5c98b064bdda.png', '0706c911b03f.png', '09afd5954fef.png', '177083950b9a.png', '921075bfc8f9.png', '1ed930938c89.png', 'd1a8fbc80659.png', '3797f1d8965f.png', 'f05ba4f2066e.png', 'd83505f10d59.png', 'b67acdc0af46.png', 'e59e3d02d2bd.png', 'f19c469eb2e0.png', '223bb0ca3a3e.png', 'd91767b50313.png', '28df11ad180c.png', '1be9ea76e16b.png', 'c578017a2e2b.png', 'dcc39f5d1d0a.png', '64e13e043972.png', '5227a7590d88.png', '439f456e687b.png', '5471c8bb23a2.png', 'c6e480eea4c1.png', 'f83af31912e5.png', '07f7fd6e0c28.png', 'e69d731367ab.png', 'e0760f9f0a7e.png', '65ec5949b296.png', 'bdf2e1bf415e.png', '5215b84a4f80.png', '55b32664d220.png', '00310e95d619.png', '465c536d1b14.png', '8786b29baa09.png', 'd70fa2af0f67.png', '89247caa9a67.png', '18fd149b0c40.png', 'de9b21bdd55b.png', 'f30df568b750.png', '206fa76b59c7.png', '67f493230742.png', 'd748afc3c90d.png', '1416c200bee9.png', '41aff4a2dd2c.png', '7b0cdcde2748.png', '5ad2aa1c6499.png', '758eb319947f.png', '49584225f84a.png', '4f30fa316805.png', 'ab3904fea8a0.png', '8a9832e3a3d0.png', '1b0c14658604.png', '86635033fb53.png', 'd2240fb06c2d.png', '1a2e5b0db0b3.png', '37b22120b51e.png', 'd0632a57ef38.png', '8b93c02eedd8.png', 'd2474ab5bf05.png', 'bbdf931d742f.png', '09568be1adf4.png', '14287f4bb785.png', '236e5c12bc4c.png', '4855bd737a84.png', '4f11e43827dc.png', '8f9444281dbf.png', 'cd9fe0cd234b.png', 'bdcfecb75d6f.png', 'd17fae39ec17.png', '9c6780162207.png', 'ae88d8564589.png', '81de204e23be.png', 'a629832c85d2.png', 'e202147b2e97.png', 'ff2e0c2a5e35.png', '49f6fe31c133.png', '65869a51a2ac.png', 'ac4437ae45ff.png', '138ce25e3b17.png', 'd1328699bad7.png', 'fdd68c22032e.png', '191a5694c406.png', '6df7701948e7.png', 'db71b0f4fe6a.png', '1f9300efeb06.png', '07e9f475737c.png', 'a8fbe12378c5.png', 'dc5a726b55a1.png', '6a822a5b5bb0.png', 'aea33d7cefbf.png', '413891c3acbf.png', '99c6804315c6.png', '6090f6cb507f.png', '34903016a8f8.png', '301f9a26e6a9.png', '2092b9a6229f.png', '5089623aee12.png', '88adf1eabb7d.png', '3e98f70cca39.png', 'ac9caa956e1f.png', '90374ec74fca.png', 'c8191277e2b9.png', '1941c7f27c77.png', '3c76cf1bc21c.png', 'f7eac0fd9721.png', '003564a45183.png', '2e61a5675cde.png', 'e21f588f3c37.png', '0b6b8acd044f.png', '719b79a2aa8c.png', '608bd225517e.png', '3f65b087c6df.png', '7aeaf9f6c4fb.png', '24173f8550ad.png', 'ae9acd4ceea8.png', '9b6f587a79c7.png', 'bb1b3e34d7b8.png', '70e67f17ae69.png', 'a8575577c656.png', 'bb74a4d9aeb3.png', 'eab152b3838f.png', 'c7c99ace2d46.png', '1f5a0e336b33.png', '831599275b7a.png', '8fc785a12fa2.png', '59d9489aaac7.png', '9646d65cba04.png', 'c9960f3d1020.png', '9ff262cc54a0.png', '56e4454188aa.png', '1cda532a577f.png', '2f73df9d6b0d.png', 'b68710dae66d.png', '9c993ab2679e.png', 'cc1610341156.png', '2030060f0760.png', '2bb37e7cb0c1.png', '8641b8f05bf5.png', '305da06c5fcc.png', 'fb563c09d59c.png', '12544437d964.png', '2ca41802bead.png', '2ae7a1b9d46d.png', '0f25e377c6ff.png', '141bb36377b7.png', 'eef5739094ef.png', '8702821c2c46.png', 'a2ba00444ac8.png', '06a75b9c69e3.png', 'd6d38de583b5.png', '8b01c04af7d4.png', '40133b5d427d.png', '3feb1ecc223b.png', '266752ff7545.png', '2db5dcf34192.png', '95b7b607c38e.png', 'b906f07aae75.png', 'e65df2b7bbe9.png', '0bbf79446cca.png', '57ce440465f5.png', '4ae8c38b6e39.png', '81805a753013.png', 'd889b4d61d7c.png', '3ad8b4373f71.png', '26c2d998be8c.png', 'ab7f96cbe8aa.png', 'b15385ba4c36.png', '16fcc74e9daf.png', 'c0c7104a832b.png', 'c3bbd293639f.png', '3e7f0b1efe73.png', '634692263af9.png', 'db3694eeb29d.png', '0703dfb1e2ed.png', 'e5e23fc7afa2.png', '2127741068de.png', '4b4a13bbea37.png', '7bc62d4eccd3.png', '3f1a5cb83cda.png', 'c91fa632eafa.png', '4f717a493d6b.png', '458e55386999.png', 'e345d9431e15.png', 'ef22fe9cb0e3.png', 'e47cf093a024.png', '08b969897662.png', 'd8b48fd52bfa.png', '28e3301d40e5.png', '85afd1b13355.png', '96c03f260eee.png', 'ea505406ebd2.png', 'cf743975a323.png', '2606bce45a44.png', 'b4c1506f70c5.png', 'a9a8a21a45be.png', '5db0c8430d14.png', '2022bd035ff0.png', 'e364ac5fff11.png', 'b637e555df68.png', '3f1573035451.png', 'a4b03d8246f8.png', '62e5451a9452.png', '4634595f3821.png', 'a9be95260a1f.png', 'c15857726838.png', '47bf8604c4c9.png', 'fd873d79f80d.png', 'b6b34a8590bf.png', '9ea2e357accc.png', '02ba24d711ca.png', '198927c0e27b.png', '81bee328387f.png', '4c7b9e8fba28.png', '063be3ac7489.png', '76dcd01991df.png', '9737eb477e76.png', 'fe0c90c1e15d.png', 'e25eeb0aea62.png', 'd967e04676f0.png', 'eff499c028d0.png', '444a36c3de8a.png', 'da960ed56d3f.png', 'd7ea1aef785d.png', '6e97e6b3c9e8.png', '74077c01838a.png', '7746b863e87c.png', '66402579d8fd.png', '8327cdde1b33.png', 'f84be8e27854.png', '56abb270e690.png', 'b9b4879a81f2.png', '0b0be55d43b8.png', '99e8c8d84274.png', 'd86a4e415997.png', 'f6b490e62f65.png', '96a37253c497.png', '4a3f7d7813fb.png', '8e5abee3eb73.png', '5ef7cc1ece5d.png', 'd62ae60a7d51.png', 'ee4a835173c3.png', '3b08b62a007c.png', '65250720c3df.png', '5fc4a4c0352f.png', '215fcb27f56f.png', '3f640b6f31ca.png', '51df5caec62f.png', '4c6f28febab1.png', '592b4065fe42.png', '28fd07f56355.png', 'c5eaa22a48e0.png', '2b33ed6ebf35.png', '8d43e45cd845.png', 'c83d78ad00ff.png', 'c3dc36651aac.png', 'eb0853953859.png', '68a3ffafb2ca.png', '69cf639a2181.png', 'f990e63ae436.png', '1a9300b82658.png', '41813dc1e0f1.png', '481c71d06a1b.png', 'a8c4d244e5a7.png', '9be5b392a928.png', 'fde974bd4e7f.png', 'dcf9a79b78ec.png', 'b404bc2a39ee.png', '2f6d4ba96248.png', '6610653ae635.png', '9007322f2478.png', '38ab5bcaf1be.png', '2f74c2799b1b.png', '8dbef88bf377.png', '982adf6ccd3d.png', '3f8b07e1e6c3.png', '32a8a77e384e.png', 'a4522140aca2.png', '5aef4a8e06d2.png', 'db1258272d01.png', '0ca597eeb14e.png', 'c1f759badb24.png', '0941343f1048.png', '843bd466eeb6.png', 'ad2f03f3523f.png', '5d9e21c0b605.png', '26affd42d0be.png', '028062eb8644.png', '0a1dff17558e.png', 'd37eda529a86.png', 'a53a08d02fc9.png']\n",
      "B Filenames Found:  ['28baa078b5f6.png', 'a26fbdb59fd4.png', '513a77d31e42.png', '1924f67a75ea.png', '849604b45677.png', '3a6eef3e1d47.png', '34c0b1e63a86.png', 'afff91894ee7.png', '0afd7614dc34.png', '5c98b064bdda.png', '0706c911b03f.png', '09afd5954fef.png', '177083950b9a.png', '921075bfc8f9.png', '1ed930938c89.png', 'd1a8fbc80659.png', '3797f1d8965f.png', 'f05ba4f2066e.png', 'd83505f10d59.png', 'b67acdc0af46.png', 'e59e3d02d2bd.png', 'f19c469eb2e0.png', '223bb0ca3a3e.png', 'd91767b50313.png', '28df11ad180c.png', '1be9ea76e16b.png', 'c578017a2e2b.png', 'dcc39f5d1d0a.png', '64e13e043972.png', '5227a7590d88.png', '439f456e687b.png', '5471c8bb23a2.png', 'c6e480eea4c1.png', 'f83af31912e5.png', '07f7fd6e0c28.png', 'e69d731367ab.png', 'e0760f9f0a7e.png', '65ec5949b296.png', 'bdf2e1bf415e.png', '5215b84a4f80.png', '55b32664d220.png', '00310e95d619.png', '465c536d1b14.png', '8786b29baa09.png', 'd70fa2af0f67.png', '89247caa9a67.png', '18fd149b0c40.png', 'de9b21bdd55b.png', 'f30df568b750.png', '206fa76b59c7.png', '67f493230742.png', 'd748afc3c90d.png', '1416c200bee9.png', '41aff4a2dd2c.png', '7b0cdcde2748.png', '5ad2aa1c6499.png', '758eb319947f.png', '49584225f84a.png', '4f30fa316805.png', 'ab3904fea8a0.png', '8a9832e3a3d0.png', '1b0c14658604.png', '86635033fb53.png', 'd2240fb06c2d.png', '1a2e5b0db0b3.png', '37b22120b51e.png', 'd0632a57ef38.png', '8b93c02eedd8.png', 'd2474ab5bf05.png', 'bbdf931d742f.png', '09568be1adf4.png', '14287f4bb785.png', '236e5c12bc4c.png', '4855bd737a84.png', '4f11e43827dc.png', '8f9444281dbf.png', 'cd9fe0cd234b.png', 'bdcfecb75d6f.png', 'd17fae39ec17.png', '9c6780162207.png', 'ae88d8564589.png', '81de204e23be.png', 'a629832c85d2.png', 'e202147b2e97.png', 'ff2e0c2a5e35.png', '49f6fe31c133.png', '65869a51a2ac.png', 'ac4437ae45ff.png', '138ce25e3b17.png', 'd1328699bad7.png', 'fdd68c22032e.png', '191a5694c406.png', '6df7701948e7.png', 'db71b0f4fe6a.png', '1f9300efeb06.png', '07e9f475737c.png', 'a8fbe12378c5.png', 'dc5a726b55a1.png', '6a822a5b5bb0.png', 'aea33d7cefbf.png', '413891c3acbf.png', '99c6804315c6.png', '6090f6cb507f.png', '34903016a8f8.png', '301f9a26e6a9.png', '2092b9a6229f.png', '5089623aee12.png', '88adf1eabb7d.png', '3e98f70cca39.png', 'ac9caa956e1f.png', '90374ec74fca.png', 'c8191277e2b9.png', '1941c7f27c77.png', '3c76cf1bc21c.png', 'f7eac0fd9721.png', '003564a45183.png', '2e61a5675cde.png', 'e21f588f3c37.png', '0b6b8acd044f.png', '719b79a2aa8c.png', '608bd225517e.png', '3f65b087c6df.png', '7aeaf9f6c4fb.png', '24173f8550ad.png', 'ae9acd4ceea8.png', '9b6f587a79c7.png', 'bb1b3e34d7b8.png', '70e67f17ae69.png', 'a8575577c656.png', 'bb74a4d9aeb3.png', 'eab152b3838f.png', 'c7c99ace2d46.png', '1f5a0e336b33.png', '831599275b7a.png', '8fc785a12fa2.png', '59d9489aaac7.png', '9646d65cba04.png', 'c9960f3d1020.png', '9ff262cc54a0.png', '56e4454188aa.png', '1cda532a577f.png', '2f73df9d6b0d.png', 'b68710dae66d.png', '9c993ab2679e.png', 'cc1610341156.png', '2030060f0760.png', '2bb37e7cb0c1.png', '8641b8f05bf5.png', '305da06c5fcc.png', 'fb563c09d59c.png', '12544437d964.png', '2ca41802bead.png', '2ae7a1b9d46d.png', '0f25e377c6ff.png', '141bb36377b7.png', 'eef5739094ef.png', '8702821c2c46.png', 'a2ba00444ac8.png', '06a75b9c69e3.png', 'd6d38de583b5.png', '8b01c04af7d4.png', '40133b5d427d.png', '3feb1ecc223b.png', '266752ff7545.png', '2db5dcf34192.png', '95b7b607c38e.png', 'b906f07aae75.png', 'e65df2b7bbe9.png', '0bbf79446cca.png', '57ce440465f5.png', '4ae8c38b6e39.png', '81805a753013.png', 'd889b4d61d7c.png', '3ad8b4373f71.png', '26c2d998be8c.png', 'ab7f96cbe8aa.png', 'b15385ba4c36.png', '16fcc74e9daf.png', 'c0c7104a832b.png', 'c3bbd293639f.png', '3e7f0b1efe73.png', '634692263af9.png', 'db3694eeb29d.png', '0703dfb1e2ed.png', 'e5e23fc7afa2.png', '2127741068de.png', '4b4a13bbea37.png', '7bc62d4eccd3.png', '3f1a5cb83cda.png', 'c91fa632eafa.png', '4f717a493d6b.png', '458e55386999.png', 'e345d9431e15.png', 'ef22fe9cb0e3.png', 'e47cf093a024.png', '08b969897662.png', 'd8b48fd52bfa.png', '28e3301d40e5.png', '85afd1b13355.png', '96c03f260eee.png', 'ea505406ebd2.png', 'cf743975a323.png', '2606bce45a44.png', 'b4c1506f70c5.png', 'a9a8a21a45be.png', '5db0c8430d14.png', '2022bd035ff0.png', 'e364ac5fff11.png', 'b637e555df68.png', '3f1573035451.png', 'a4b03d8246f8.png', '62e5451a9452.png', '4634595f3821.png', 'a9be95260a1f.png', 'c15857726838.png', '47bf8604c4c9.png', 'fd873d79f80d.png', 'b6b34a8590bf.png', '9ea2e357accc.png', '02ba24d711ca.png', '198927c0e27b.png', '81bee328387f.png', '4c7b9e8fba28.png', '063be3ac7489.png', '76dcd01991df.png', '9737eb477e76.png', 'fe0c90c1e15d.png', 'e25eeb0aea62.png', 'd967e04676f0.png', 'eff499c028d0.png', '444a36c3de8a.png', 'da960ed56d3f.png', 'd7ea1aef785d.png', '6e97e6b3c9e8.png', '74077c01838a.png', '7746b863e87c.png', '66402579d8fd.png', '8327cdde1b33.png', 'f84be8e27854.png', '56abb270e690.png', 'b9b4879a81f2.png', '0b0be55d43b8.png', '99e8c8d84274.png', 'd86a4e415997.png', 'f6b490e62f65.png', '96a37253c497.png', '4a3f7d7813fb.png', '8e5abee3eb73.png', '5ef7cc1ece5d.png', 'd62ae60a7d51.png', 'ee4a835173c3.png', '3b08b62a007c.png', '65250720c3df.png', '5fc4a4c0352f.png', '215fcb27f56f.png', '3f640b6f31ca.png', '51df5caec62f.png', '4c6f28febab1.png', '592b4065fe42.png', '28fd07f56355.png', 'c5eaa22a48e0.png', '2b33ed6ebf35.png', '8d43e45cd845.png', 'c83d78ad00ff.png', 'c3dc36651aac.png', 'eb0853953859.png', '68a3ffafb2ca.png', '69cf639a2181.png', 'f990e63ae436.png', '1a9300b82658.png', '41813dc1e0f1.png', '481c71d06a1b.png', 'a8c4d244e5a7.png', '9be5b392a928.png', 'fde974bd4e7f.png', 'dcf9a79b78ec.png', 'b404bc2a39ee.png', '2f6d4ba96248.png', '6610653ae635.png', '9007322f2478.png', '38ab5bcaf1be.png', '2f74c2799b1b.png', '8dbef88bf377.png', '982adf6ccd3d.png', '3f8b07e1e6c3.png', '32a8a77e384e.png', 'a4522140aca2.png', '5aef4a8e06d2.png', 'db1258272d01.png', '0ca597eeb14e.png', 'c1f759badb24.png', '0941343f1048.png', '843bd466eeb6.png', 'ad2f03f3523f.png', '5d9e21c0b605.png', '26affd42d0be.png', '028062eb8644.png', '0a1dff17558e.png', 'd37eda529a86.png', 'a53a08d02fc9.png']\n"
     ]
    }
   ],
   "source": [
    "# Iterate over the files generated by the Augmentor pipeline and copy them to a new directory\n",
    "# The empty destination directory needs to exist before running this cell\n",
    "\n",
    "# This is the default location that Augmentor will have saved the sampled images\n",
    "os.chdir(pathA + '/output')\n",
    "\n",
    "\n",
    "A_files = []\n",
    "B_files = []\n",
    "\n",
    "for filename in os.listdir('.'):\n",
    "  if 'A_original' in filename:\n",
    "      # guid will include the .png suffix\n",
    "      guid = filename[-16:]\n",
    "      A_files.append(guid)\n",
    "      # shutil.copyfile(src, dst, *, follow_symlinks=True)\n",
    "      dst = newPathA + guid\n",
    "      shutil.copyfile(filename, dst)\n",
    "  if '_groundtruth_' in filename:\n",
    "      # guid will include the .png suffix\n",
    "      guid = filename[-16:]\n",
    "      B_files.append(guid)\n",
    "      # shutil.copyfile(src, dst, *, follow_symlinks=True)\n",
    "      dst = newPathB + guid\n",
    "      shutil.copyfile(filename, dst)\n",
    "\n",
    "print(\"A Filenames Found: \", A_files)\n",
    "print(\"B Filenames Found: \", B_files)"
   ]
  },
  {
   "cell_type": "code",
   "execution_count": 14,
   "metadata": {
    "colab": {},
    "colab_type": "code",
    "executionInfo": {
     "elapsed": 4869,
     "status": "ok",
     "timestamp": 1592403841617,
     "user": {
      "displayName": "Nate Peters",
      "photoUrl": "",
      "userId": "02817882008307922647"
     },
     "user_tz": 300
    },
    "id": "p7Mt_xz0uGLb"
   },
   "outputs": [],
   "source": [
    "# Combine Augmented Images into the pair format that Pix2Pix expects\n",
    "os.chdir(newPathA)\n",
    "for filename in os.listdir('.'):\n",
    "  im1 = Image.open(filename)\n",
    "  im2 = Image.open(newPathB + filename)\n",
    "\n",
    "  # Combine images horizontally using PIL\n",
    "  dst = Image.new('RGB', (512, 256))\n",
    "  dst.paste(im1, (0, 0))\n",
    "  dst.paste(im2, (im1.width, 0))\n",
    "  dst.save(combinedPath + filename)"
   ]
  },
  {
   "cell_type": "code",
   "execution_count": 16,
   "metadata": {
    "colab": {},
    "colab_type": "code",
    "executionInfo": {
     "elapsed": 2816,
     "status": "ok",
     "timestamp": 1592403878071,
     "user": {
      "displayName": "Nate Peters",
      "photoUrl": "",
      "userId": "02817882008307922647"
     },
     "user_tz": 300
    },
    "id": "OEj4vZ6IvDoc"
   },
   "outputs": [],
   "source": [
    "# Train/Test Split\n",
    "# Takes the files in '../Augmented/Combined/' and randomly splits them into './Combined/Train' and './Combined/Test' directories\n",
    "os.chdir(combinedPath)\n",
    "test_dir = combinedPath + 'Test/'\n",
    "train_dir = combinedPath + 'Train/'\n",
    "\n",
    "files = os.listdir(combinedPath)\n",
    "ratio = 0.15\n",
    "\n",
    "for f in files:\n",
    "    if '.png' in f:\n",
    "      if np.random.rand(1) < ratio:\n",
    "          shutil.copyfile(combinedPath + f, test_dir + f)\n",
    "      else:\n",
    "          shutil.copyfile(combinedPath + f, train_dir + f)"
   ]
  },
  {
   "cell_type": "code",
   "execution_count": 17,
   "metadata": {
    "colab": {
     "base_uri": "https://localhost:8080/",
     "height": 34
    },
    "colab_type": "code",
    "executionInfo": {
     "elapsed": 306,
     "status": "ok",
     "timestamp": 1592403905391,
     "user": {
      "displayName": "Nate Peters",
      "photoUrl": "",
      "userId": "02817882008307922647"
     },
     "user_tz": 300
    },
    "id": "Z33V1Zo0weN7",
    "outputId": "b039468d-83af-4cea-819f-5d05824e837d"
   },
   "outputs": [
    {
     "name": "stdout",
     "output_type": "stream",
     "text": [
      "261\n"
     ]
    }
   ],
   "source": [
    "# Check that files exist in new location:\n",
    "\n",
    "# os.chdir(pathA+ '/output')\n",
    "os.chdir(train_dir)\n",
    "print(len([name for name in os.listdir('.') if os.path.isfile(name)]))"
   ]
  },
  {
   "cell_type": "code",
   "execution_count": null,
   "metadata": {},
   "outputs": [],
   "source": []
  }
 ],
 "metadata": {
  "colab": {
   "name": "Dataset Augmentation.ipynb",
   "provenance": [
    {
     "file_id": "1M5ElHKBG7VWd-tw7Z_wWSkJANQuYsel4",
     "timestamp": 1592246915404
    }
   ]
  },
  "kernelspec": {
   "display_name": "Python 3 (ipykernel)",
   "language": "python",
   "name": "python3"
  },
  "language_info": {
   "codemirror_mode": {
    "name": "ipython",
    "version": 3
   },
   "file_extension": ".py",
   "mimetype": "text/x-python",
   "name": "python",
   "nbconvert_exporter": "python",
   "pygments_lexer": "ipython3",
   "version": "3.11.7"
  },
  "vscode": {
   "interpreter": {
    "hash": "52b4aa5f59fa7ad3daf0fa67351bd53cbef7ef4d4e43a060aee803edfa3884c7"
   }
  }
 },
 "nbformat": 4,
 "nbformat_minor": 4
}
