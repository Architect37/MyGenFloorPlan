{
 "cells": [
  {
   "cell_type": "code",
   "execution_count": 23,
   "metadata": {
    "colab": {
     "base_uri": "https://localhost:8080/",
     "height": 122
    },
    "colab_type": "code",
    "executionInfo": {
     "elapsed": 62088,
     "status": "ok",
     "timestamp": 1592402461116,
     "user": {
      "displayName": "Nate Peters",
      "photoUrl": "",
      "userId": "02817882008307922647"
     },
     "user_tz": 300
    },
    "id": "-eeMjMQuTwU6",
    "outputId": "222b17ce-3768-4b17-f865-343a8e41679f"
   },
   "outputs": [
    {
     "name": "stdout",
     "output_type": "stream",
     "text": [
      "C:\\Users\\MR ARCHITECT\\MyFloorPlan\\MyGenNew\\MyGenFloorPlan\\utils\n"
     ]
    }
   ],
   "source": [
    "!cd"
   ]
  },
  {
   "cell_type": "code",
   "execution_count": 24,
   "metadata": {},
   "outputs": [],
   "source": [
    "root = '/Users/MR ARCHITECT/MyFloorPlan/MyGenNew/MyGenFloorPlan/'"
   ]
  },
  {
   "cell_type": "code",
   "execution_count": 25,
   "metadata": {
    "colab": {
     "base_uri": "https://localhost:8080/",
     "height": 173
    },
    "colab_type": "code",
    "executionInfo": {
     "elapsed": 4619,
     "status": "ok",
     "timestamp": 1592402488696,
     "user": {
      "displayName": "Nate Peters",
      "photoUrl": "",
      "userId": "02817882008307922647"
     },
     "user_tz": 300
    },
    "id": "2iXBQ4xs8eCV",
    "outputId": "326c4510-66ab-4e51-d31e-9e99923ba516"
   },
   "outputs": [
    {
     "name": "stdout",
     "output_type": "stream",
     "text": [
      "Requirement already satisfied: Augmentor in c:\\programdata\\anaconda3\\lib\\site-packages (0.2.12)\n",
      "Requirement already satisfied: Pillow>=5.2.0 in c:\\programdata\\anaconda3\\lib\\site-packages (from Augmentor) (10.2.0)\n",
      "Requirement already satisfied: tqdm>=4.9.0 in c:\\programdata\\anaconda3\\lib\\site-packages (from Augmentor) (4.65.0)\n",
      "Requirement already satisfied: numpy>=1.11.0 in c:\\programdata\\anaconda3\\lib\\site-packages (from Augmentor) (1.26.4)\n",
      "Requirement already satisfied: colorama in c:\\programdata\\anaconda3\\lib\\site-packages (from tqdm>=4.9.0->Augmentor) (0.4.6)\n",
      "Requirement already satisfied: numpy in c:\\programdata\\anaconda3\\lib\\site-packages (1.26.4)\n",
      "Requirement already satisfied: Pillow in c:\\programdata\\anaconda3\\lib\\site-packages (10.2.0)\n"
     ]
    }
   ],
   "source": [
    "!pip install Augmentor\n",
    "!pip install numpy \n",
    "!pip install Pillow "
   ]
  },
  {
   "cell_type": "code",
   "execution_count": 26,
   "metadata": {
    "colab": {},
    "colab_type": "code",
    "executionInfo": {
     "elapsed": 331,
     "status": "ok",
     "timestamp": 1592402489763,
     "user": {
      "displayName": "Nate Peters",
      "photoUrl": "",
      "userId": "02817882008307922647"
     },
     "user_tz": 300
    },
    "id": "ipF2ZtBu8V5M"
   },
   "outputs": [],
   "source": [
    "import Augmentor\n",
    "import os\n",
    "import shutil\n",
    "from PIL import Image\n",
    "import numpy as np"
   ]
  },
  {
   "cell_type": "markdown",
   "metadata": {
    "colab_type": "text",
    "id": "rtqxt5ArxYDH"
   },
   "source": [
    "Documentation on Augmentor can be found here: https://github.com/mdbloice/Augmentor"
   ]
  },
  {
   "cell_type": "code",
   "execution_count": 27,
   "metadata": {
    "colab": {},
    "colab_type": "code",
    "executionInfo": {
     "elapsed": 428,
     "status": "ok",
     "timestamp": 1592402491739,
     "user": {
      "displayName": "Nate Peters",
      "photoUrl": "",
      "userId": "02817882008307922647"
     },
     "user_tz": 300
    },
    "id": "IIQJlPQz8V5Q"
   },
   "outputs": [],
   "source": [
    "pathA = root + '/dataset/Original/A'\n",
    "pathB = root + '/dataset/Original/B' "
   ]
  },
  {
   "cell_type": "code",
   "execution_count": 28,
   "metadata": {
    "colab": {
     "base_uri": "https://localhost:8080/",
     "height": 51
    },
    "colab_type": "code",
    "executionInfo": {
     "elapsed": 530,
     "status": "ok",
     "timestamp": 1592402809097,
     "user": {
      "displayName": "Nate Peters",
      "photoUrl": "",
      "userId": "02817882008307922647"
     },
     "user_tz": 300
    },
    "id": "Yi862n0z8V5T",
    "outputId": "f1fb017f-59b2-4f36-c725-42fdef7bbb53"
   },
   "outputs": [
    {
     "name": "stdout",
     "output_type": "stream",
     "text": [
      "Initialised with 5 image(s) found.\n",
      "Output directory set to /Users/MR ARCHITECT/MyFloorPlan/MyGenNew/MyGenFloorPlan//dataset/Original/A\\output."
     ]
    },
    {
     "name": "stderr",
     "output_type": "stream",
     "text": [
      "                                                      "
     ]
    },
    {
     "name": "stdout",
     "output_type": "stream",
     "text": [
      "5 ground truth image(s) found.\n"
     ]
    },
    {
     "name": "stderr",
     "output_type": "stream",
     "text": [
      "\r"
     ]
    }
   ],
   "source": [
    "p = Augmentor.Pipeline(pathA)\n",
    "# Point to a directory containing ground truth data.\n",
    "# Images with the same file names will be added as ground truth data\n",
    "# and augmented in parallel to the original data.\n",
    "p.ground_truth(pathB)\n",
    "\n",
    "# Add operations to the pipeline:\n",
    "p.rotate90(probability=0.25)\n",
    "p.rotate270(probability=0.25)\n",
    "p.flip_left_right(probability=0.25)\n",
    "p.flip_top_bottom(probability=0.25)\n"
   ]
  },
  {
   "cell_type": "code",
   "execution_count": 29,
   "metadata": {
    "colab": {
     "base_uri": "https://localhost:8080/",
     "height": 34
    },
    "colab_type": "code",
    "executionInfo": {
     "elapsed": 6874,
     "status": "ok",
     "timestamp": 1592402816762,
     "user": {
      "displayName": "Nate Peters",
      "photoUrl": "",
      "userId": "02817882008307922647"
     },
     "user_tz": 300
    },
    "id": "upIjS6mS8V5X",
    "outputId": "fe3e13f5-891b-4d90-d7b8-77d744eefc61"
   },
   "outputs": [
    {
     "name": "stderr",
     "output_type": "stream",
     "text": [
      "Processing <PIL.Image.Image image mode=RGBA size=256x256 at 0x1DF92973090>: 100%|██████████| 300/300 [00:00<00:00, 522.98 Samples/s]                \n"
     ]
    }
   ],
   "source": [
    "IMAGE_COUNT = 300\n",
    "\n",
    "p.sample(IMAGE_COUNT)"
   ]
  },
  {
   "cell_type": "code",
   "execution_count": 30,
   "metadata": {
    "colab": {},
    "colab_type": "code",
    "id": "Z5Yh1EsgwMJO"
   },
   "outputs": [],
   "source": [
    "# Wait a few minutes before continuing to make sure the output images get uploaded to Google Drive, since we'll be \n",
    "# copying and combining them in the next step"
   ]
  },
  {
   "cell_type": "code",
   "execution_count": 35,
   "metadata": {
    "colab": {},
    "colab_type": "code",
    "executionInfo": {
     "elapsed": 265,
     "status": "ok",
     "timestamp": 1592402853431,
     "user": {
      "displayName": "Nate Peters",
      "photoUrl": "",
      "userId": "02817882008307922647"
     },
     "user_tz": 300
    },
    "id": "vzvvtdy3uh_m"
   },
   "outputs": [],
   "source": [
    "newPathA = root + '/dataset/Augmented/A_processed/'\n",
    "newPathB = root + '/dataset/Augmented/B_processed/'\n",
    "combinedPath = root + '/dataset/Augmented/Combined_2024_03_18_15_41/'"
   ]
  },
  {
   "cell_type": "code",
   "execution_count": 36,
   "metadata": {
    "colab": {
     "base_uri": "https://localhost:8080/",
     "height": 71
    },
    "colab_type": "code",
    "executionInfo": {
     "elapsed": 5256,
     "status": "ok",
     "timestamp": 1592402860051,
     "user": {
      "displayName": "Nate Peters",
      "photoUrl": "",
      "userId": "02817882008307922647"
     },
     "user_tz": 300
    },
    "id": "x3-iOicI8V5h",
    "outputId": "62fb67e4-d0d0-45e3-d888-4f3974ef2062"
   },
   "outputs": [
    {
     "name": "stdout",
     "output_type": "stream",
     "text": [
      "A Filenames Found:  ['be40b7c2bc25.png', '7f490d1f0c23.png', '5f4db78db599.png', '3aa25ccddecf.png', '3f187f1e447a.png', '4e293b45e2a9.png', '5d2ef2e3905d.png', '3acbfb56252f.png', '6ec336d4c8c3.png', '1d9e6b1ae650.png', 'a880c25b6cfe.png', 'ac019f61cbe8.png', '9f7052e42b76.png', 'c8d5a23b135f.png', 'd9d95c858b2e.png', '54c78cb3a1dc.png', 'a5d82dbf776a.png', '70e7646f3582.png', 'ff7b503c94c7.png', 'c2968af9d4e2.png', 'acc89250c909.png', 'd72c0838aa75.png', 'abcaba6732e8.png', 'cfa65be46953.png', '08f9e056bb1a.png', 'f674d8e3e9c4.png', 'df4bb84155e6.png', '8c987c4b2fa7.png', '90d7df0995b4.png', 'ea48b81ac9a8.png', 'ed57ac8087a6.png', '149286c0fa6c.png', 'ce665b3904d0.png', '6aa82c9c836b.png', '6756f2bb6200.png', 'e77c973f10a1.png', 'a13c3dab8a1d.png', '89a171f40cc0.png', 'ec47f32abc87.png', 'f257a98d2a7b.png', '0f0b1259c5af.png', 'c99764d7a0f7.png', '47f458e603f5.png', 'becc916e7d22.png', 'f3ced65f777d.png', '80fb9cb70f8e.png', '5100e135f25c.png', 'f8ea1eec77a8.png', 'ec91cd78d61c.png', 'f699da726713.png', '370aa449eae8.png', 'e69336d2b1ec.png', '90f251c146a0.png', '6800b4902921.png', '1f6a597fc752.png', 'c5d45cf71311.png', '368cce20f819.png', '6a5c5dae8e92.png', '2268477fc520.png', 'e324ab9fd599.png', '114ef8233bd3.png', '1e4dc93be2c5.png', '4adf983f16d6.png', '0fb409c3c432.png', 'a3a8ca4d1040.png', '8a5d51890a8a.png', '643454415363.png', 'a63b05d7dedb.png', '481c872874c4.png', '7458ca0a9d96.png', '73a4487a2375.png', 'a506623a15c2.png', 'e1eb286cff89.png', '7ba7d487c7e0.png', 'eaee17bcbc59.png', 'd0e7c0335eaf.png', '65ddfeb9c877.png', 'e23743c8b4f5.png', 'd1bdb946124d.png', '05ce02b6c838.png', 'f6ddd61a0f53.png', '1836a52d840e.png', 'cdcac929985a.png', 'c65fe588d51e.png', 'd0b5aee1bb18.png', '3230b327fcdc.png', 'eb6dd722109f.png', 'cdaa14c4a1ff.png', '163ee56f62d0.png', '59570e773133.png', 'bfae4fb266e7.png', '32ba95223d78.png', '54162b9635f4.png', '67170671177c.png', '0788dd144408.png', '4bb63465fb1f.png', '280f31af477f.png', '93ec01604069.png', '7484d4f9aa81.png', 'e5c03b88d156.png', '61bc22f5d85e.png', '319e20c080da.png', '657eb38e8a6b.png', '425ebd960e04.png', '3359f474072c.png', '5c410a2bbdc2.png', '57110d8c9317.png', '12f1527f8ad3.png', 'da9a0cb2abd1.png', '1c866b12a677.png', 'c15e53248a43.png', 'e02ad6b59a15.png', '674497e87475.png', '5ba217cee5b0.png', '8466cf18ab05.png', '2f22f70d9bae.png', 'eabefa246826.png', '0a90fa63cb10.png', 'c54aed383def.png', '6becf2a246d2.png', 'd7761370c4fc.png', '33c2557d710f.png', '4adbbfdd8a74.png', '9eb44e527108.png', 'fd8ff608580d.png', 'f7f7997ebb9d.png', '3bd5f922f87e.png', 'd1ff1367cf59.png', 'b569514ed46e.png', '68b2d5aed787.png', 'ba1d40ae793b.png', '74168ae933b4.png', '082eb9662b2e.png', '8e4231fc88f3.png', 'a38d435ad13c.png', 'd9affa09c4ff.png', 'edd201e20c25.png', '14da9e4140b2.png', '5a56e54a7756.png', 'ef0562c82c78.png', '3ea6c90628b6.png', 'c28cdb1064a8.png', '2415382a3c47.png', 'e4f77152e687.png', '30a4343d04a9.png', 'c06bf91b1b36.png', 'dbeffc172b6b.png', 'a16b61993d7a.png', '72e5c4c365d1.png', '32aa97429ca0.png', '43bbf7c38889.png', '8df34768ebac.png', 'ac94e5057054.png', 'daf2802e79ff.png', 'de34472bfdcc.png', 'a858576a0776.png', '09f35fda36a9.png', '9cac5bee96bc.png', 'b688d504f804.png', 'f7107fad3b6d.png', 'b43cd80ef299.png', '43f233ddc90b.png', '23a6cbe2afae.png', '1ff17f967563.png', '4a644b88ce93.png', 'd6a1e6e13ae0.png', 'fc3bd5ec4559.png', '413adb8e2dad.png', 'a717f864f68a.png', '382fd1e91052.png', '17043d0fd985.png', '544316b7ba21.png', '0e417527cb7b.png', 'cbb6b23c7112.png', '7e707a6de8c1.png', '3266e694f380.png', '548cfa8f5e11.png', '4ada7fb3bab6.png', 'ab5401ce0317.png', '75b1631a1f2f.png', 'de89c10c6992.png', 'f9c9a52908f9.png', 'dd10cad082ef.png', '610f64e345ad.png', '169d445fa81c.png', '8f3b6ba7b725.png', '6134b71d8e82.png', '43c8a5129d01.png', '7737db62ef42.png', '8aa7711fdb3d.png', '7472bf4fe791.png', 'ac8b21ab23fa.png', 'f61fa0ca6458.png', 'ff8221fbf968.png', 'dc40c4672d47.png', '5f30f4e6f394.png', '2546c3e87ac1.png', '16997cf959b1.png', 'e1540bfc2414.png', '397946aa9d1e.png', 'a5009ad89802.png', 'cbff45372d7e.png', '91fbdeaede71.png', '041ef1a78ec0.png', 'c5472ed8d222.png', '72e75ce1e2af.png', '5fda3d1dd2a7.png', 'fbcbd57c1a26.png', '4de6227bdada.png', '879b3e3fddb0.png', '21f299ee9883.png', '6c8704c92d20.png', 'db4aaa027afc.png', '46820020678e.png', '52af9fde6880.png', 'bf0761518d71.png', '5496f86f92e6.png', '9b25bd92e611.png', '2ae87700d81c.png', '24c9f6ec7f50.png', '16649a34a84e.png', 'f760c37ddfeb.png', 'faa210b7e9e2.png', 'e55f52746a1f.png', '88ae5781fdb6.png', '830027b4611f.png', '56df368468cb.png', '1186568509ef.png', '4faef6c98b50.png', 'e66fc7b52e65.png', '5770bba2cbc9.png', '1cd543af8a64.png', 'eb973f1e8712.png', 'b761992cec18.png', '154ccc108032.png', '07fc90c86f25.png', 'f10b8f911eae.png', '87df66f44ca1.png', '49a9bd7a0e60.png', 'afa93154d8eb.png', '4ee14e3bec0e.png', 'cc2faecaa37a.png', 'de6b3b31076a.png', '2c5a222b95b3.png', '6e512e585245.png', '5f01cb0f582e.png', 'ab3aa8e75f18.png', '0b30cb7c2c22.png', 'd2b4c2247d95.png', '2a8b006a7df3.png', 'e8ca208ed7c1.png', '8493f337e445.png', '6d5a23aac669.png', '5dc9929e3892.png', 'bedc9b3660b0.png', 'e2f65dd1b9d2.png', '40d50e5e4fb2.png', 'b3cf89c389f0.png', 'b282f88d4c79.png', 'cc5bece5f953.png', 'fd774bb728c3.png', '0a084f7b5e6d.png', '1f3bb169a586.png', '970c29d10574.png', '372de6bf2158.png', '1524d4629af4.png', '7334f3c56e64.png', 'bf1a122c1370.png', 'fa7f15705db6.png', 'b175f19178f6.png', '5b97f6dd6774.png', '9fec48366b63.png', '79bb0b890442.png', 'adb229294934.png', 'c1b2276cb136.png', '02fa82854878.png', '9bb9020a6011.png', '7a19ccd3a3ac.png', '29d09e864931.png', '3be5576f79c9.png', '24682d3d6d26.png', '16a13caf6d0e.png', 'f6fca533eeb3.png', '8da811f5242f.png', '5767224ba151.png', 'e83c27dca29a.png', 'baa4cf4fd940.png', '0bebe6d59094.png', '391ef4768936.png', '91d572c3082d.png', '9cb58deb4eed.png', '8585873c01c0.png', 'f2e9270e71a7.png', '68234ee8ecb6.png', '9a5c9b8a3a76.png', '8884b870f03c.png', '8240210e85d5.png', '72558af71a06.png', 'ea14f1538e7a.png', 'b38fb04c7748.png']\n",
      "B Filenames Found:  ['be40b7c2bc25.png', '7f490d1f0c23.png', '5f4db78db599.png', '3aa25ccddecf.png', '3f187f1e447a.png', '4e293b45e2a9.png', '5d2ef2e3905d.png', '3acbfb56252f.png', '6ec336d4c8c3.png', '1d9e6b1ae650.png', 'a880c25b6cfe.png', 'ac019f61cbe8.png', '9f7052e42b76.png', 'c8d5a23b135f.png', 'd9d95c858b2e.png', '54c78cb3a1dc.png', 'a5d82dbf776a.png', '70e7646f3582.png', 'ff7b503c94c7.png', 'c2968af9d4e2.png', 'acc89250c909.png', 'd72c0838aa75.png', 'abcaba6732e8.png', 'cfa65be46953.png', '08f9e056bb1a.png', 'f674d8e3e9c4.png', 'df4bb84155e6.png', '8c987c4b2fa7.png', '90d7df0995b4.png', 'ea48b81ac9a8.png', 'ed57ac8087a6.png', '149286c0fa6c.png', 'ce665b3904d0.png', '6aa82c9c836b.png', '6756f2bb6200.png', 'e77c973f10a1.png', 'a13c3dab8a1d.png', '89a171f40cc0.png', 'ec47f32abc87.png', 'f257a98d2a7b.png', '0f0b1259c5af.png', 'c99764d7a0f7.png', '47f458e603f5.png', 'becc916e7d22.png', 'f3ced65f777d.png', '80fb9cb70f8e.png', '5100e135f25c.png', 'f8ea1eec77a8.png', 'ec91cd78d61c.png', 'f699da726713.png', '370aa449eae8.png', 'e69336d2b1ec.png', '90f251c146a0.png', '6800b4902921.png', '1f6a597fc752.png', 'c5d45cf71311.png', '368cce20f819.png', '6a5c5dae8e92.png', '2268477fc520.png', 'e324ab9fd599.png', '114ef8233bd3.png', '1e4dc93be2c5.png', '4adf983f16d6.png', '0fb409c3c432.png', 'a3a8ca4d1040.png', '8a5d51890a8a.png', '643454415363.png', 'a63b05d7dedb.png', '481c872874c4.png', '7458ca0a9d96.png', '73a4487a2375.png', 'a506623a15c2.png', 'e1eb286cff89.png', '7ba7d487c7e0.png', 'eaee17bcbc59.png', 'd0e7c0335eaf.png', '65ddfeb9c877.png', 'e23743c8b4f5.png', 'd1bdb946124d.png', '05ce02b6c838.png', 'f6ddd61a0f53.png', '1836a52d840e.png', 'cdcac929985a.png', 'c65fe588d51e.png', 'd0b5aee1bb18.png', '3230b327fcdc.png', 'eb6dd722109f.png', 'cdaa14c4a1ff.png', '163ee56f62d0.png', '59570e773133.png', 'bfae4fb266e7.png', '32ba95223d78.png', '54162b9635f4.png', '67170671177c.png', '0788dd144408.png', '4bb63465fb1f.png', '280f31af477f.png', '93ec01604069.png', '7484d4f9aa81.png', 'e5c03b88d156.png', '61bc22f5d85e.png', '319e20c080da.png', '657eb38e8a6b.png', '425ebd960e04.png', '3359f474072c.png', '5c410a2bbdc2.png', '57110d8c9317.png', '12f1527f8ad3.png', 'da9a0cb2abd1.png', '1c866b12a677.png', 'c15e53248a43.png', 'e02ad6b59a15.png', '674497e87475.png', '5ba217cee5b0.png', '8466cf18ab05.png', '2f22f70d9bae.png', 'eabefa246826.png', '0a90fa63cb10.png', 'c54aed383def.png', '6becf2a246d2.png', 'd7761370c4fc.png', '33c2557d710f.png', '4adbbfdd8a74.png', '9eb44e527108.png', 'fd8ff608580d.png', 'f7f7997ebb9d.png', '3bd5f922f87e.png', 'd1ff1367cf59.png', 'b569514ed46e.png', '68b2d5aed787.png', 'ba1d40ae793b.png', '74168ae933b4.png', '082eb9662b2e.png', '8e4231fc88f3.png', 'a38d435ad13c.png', 'd9affa09c4ff.png', 'edd201e20c25.png', '14da9e4140b2.png', '5a56e54a7756.png', 'ef0562c82c78.png', '3ea6c90628b6.png', 'c28cdb1064a8.png', '2415382a3c47.png', 'e4f77152e687.png', '30a4343d04a9.png', 'c06bf91b1b36.png', 'dbeffc172b6b.png', 'a16b61993d7a.png', '72e5c4c365d1.png', '32aa97429ca0.png', '43bbf7c38889.png', '8df34768ebac.png', 'ac94e5057054.png', 'daf2802e79ff.png', 'de34472bfdcc.png', 'a858576a0776.png', '09f35fda36a9.png', '9cac5bee96bc.png', 'b688d504f804.png', 'f7107fad3b6d.png', 'b43cd80ef299.png', '43f233ddc90b.png', '23a6cbe2afae.png', '1ff17f967563.png', '4a644b88ce93.png', 'd6a1e6e13ae0.png', 'fc3bd5ec4559.png', '413adb8e2dad.png', 'a717f864f68a.png', '382fd1e91052.png', '17043d0fd985.png', '544316b7ba21.png', '0e417527cb7b.png', 'cbb6b23c7112.png', '7e707a6de8c1.png', '3266e694f380.png', '548cfa8f5e11.png', '4ada7fb3bab6.png', 'ab5401ce0317.png', '75b1631a1f2f.png', 'de89c10c6992.png', 'f9c9a52908f9.png', 'dd10cad082ef.png', '610f64e345ad.png', '169d445fa81c.png', '8f3b6ba7b725.png', '6134b71d8e82.png', '43c8a5129d01.png', '7737db62ef42.png', '8aa7711fdb3d.png', '7472bf4fe791.png', 'ac8b21ab23fa.png', 'f61fa0ca6458.png', 'ff8221fbf968.png', 'dc40c4672d47.png', '5f30f4e6f394.png', '2546c3e87ac1.png', '16997cf959b1.png', 'e1540bfc2414.png', '397946aa9d1e.png', 'a5009ad89802.png', 'cbff45372d7e.png', '91fbdeaede71.png', '041ef1a78ec0.png', 'c5472ed8d222.png', '72e75ce1e2af.png', '5fda3d1dd2a7.png', 'fbcbd57c1a26.png', '4de6227bdada.png', '879b3e3fddb0.png', '21f299ee9883.png', '6c8704c92d20.png', 'db4aaa027afc.png', '46820020678e.png', '52af9fde6880.png', 'bf0761518d71.png', '5496f86f92e6.png', '9b25bd92e611.png', '2ae87700d81c.png', '24c9f6ec7f50.png', '16649a34a84e.png', 'f760c37ddfeb.png', 'faa210b7e9e2.png', 'e55f52746a1f.png', '88ae5781fdb6.png', '830027b4611f.png', '56df368468cb.png', '1186568509ef.png', '4faef6c98b50.png', 'e66fc7b52e65.png', '5770bba2cbc9.png', '1cd543af8a64.png', 'eb973f1e8712.png', 'b761992cec18.png', '154ccc108032.png', '07fc90c86f25.png', 'f10b8f911eae.png', '87df66f44ca1.png', '49a9bd7a0e60.png', 'afa93154d8eb.png', '4ee14e3bec0e.png', 'cc2faecaa37a.png', 'de6b3b31076a.png', '2c5a222b95b3.png', '6e512e585245.png', '5f01cb0f582e.png', 'ab3aa8e75f18.png', '0b30cb7c2c22.png', 'd2b4c2247d95.png', '2a8b006a7df3.png', 'e8ca208ed7c1.png', '8493f337e445.png', '6d5a23aac669.png', '5dc9929e3892.png', 'bedc9b3660b0.png', 'e2f65dd1b9d2.png', '40d50e5e4fb2.png', 'b3cf89c389f0.png', 'b282f88d4c79.png', 'cc5bece5f953.png', 'fd774bb728c3.png', '0a084f7b5e6d.png', '1f3bb169a586.png', '970c29d10574.png', '372de6bf2158.png', '1524d4629af4.png', '7334f3c56e64.png', 'bf1a122c1370.png', 'fa7f15705db6.png', 'b175f19178f6.png', '5b97f6dd6774.png', '9fec48366b63.png', '79bb0b890442.png', 'adb229294934.png', 'c1b2276cb136.png', '02fa82854878.png', '9bb9020a6011.png', '7a19ccd3a3ac.png', '29d09e864931.png', '3be5576f79c9.png', '24682d3d6d26.png', '16a13caf6d0e.png', 'f6fca533eeb3.png', '8da811f5242f.png', '5767224ba151.png', 'e83c27dca29a.png', 'baa4cf4fd940.png', '0bebe6d59094.png', '391ef4768936.png', '91d572c3082d.png', '9cb58deb4eed.png', '8585873c01c0.png', 'f2e9270e71a7.png', '68234ee8ecb6.png', '9a5c9b8a3a76.png', '8884b870f03c.png', '8240210e85d5.png', '72558af71a06.png', 'ea14f1538e7a.png', 'b38fb04c7748.png']\n"
     ]
    }
   ],
   "source": [
    "# Iterate over the files generated by the Augmentor pipeline and copy them to a new directory\n",
    "# The empty destination directory needs to exist before running this cell\n",
    "\n",
    "# This is the default location that Augmentor will have saved the sampled images\n",
    "os.chdir(pathA + '/output')\n",
    "\n",
    "A_files = []\n",
    "B_files = []\n",
    "\n",
    "for filename in os.listdir('.'):\n",
    "  if 'A_original' in filename:\n",
    "      # guid will include the .png suffix\n",
    "      guid = filename[-16:]\n",
    "      A_files.append(guid)\n",
    "      # shutil.copyfile(src, dst, *, follow_symlinks=True)\n",
    "      dst = newPathA + guid\n",
    "      shutil.copyfile(filename, dst)\n",
    "  if '_groundtruth_' in filename:\n",
    "      # guid will include the .png suffix\n",
    "      guid = filename[-16:]\n",
    "      B_files.append(guid)\n",
    "      # shutil.copyfile(src, dst, *, follow_symlinks=True)\n",
    "      dst = newPathB + guid\n",
    "      shutil.copyfile(filename, dst)\n",
    "\n",
    "print(\"A Filenames Found: \", A_files)\n",
    "print(\"B Filenames Found: \", B_files)"
   ]
  },
  {
   "cell_type": "code",
   "execution_count": 37,
   "metadata": {
    "colab": {},
    "colab_type": "code",
    "executionInfo": {
     "elapsed": 4869,
     "status": "ok",
     "timestamp": 1592403841617,
     "user": {
      "displayName": "Nate Peters",
      "photoUrl": "",
      "userId": "02817882008307922647"
     },
     "user_tz": 300
    },
    "id": "p7Mt_xz0uGLb"
   },
   "outputs": [],
   "source": [
    "# Combine Augmented Images into the pair format that Pix2Pix expects\n",
    "os.chdir(newPathA)\n",
    "for filename in os.listdir('.'):\n",
    "  im1 = Image.open(filename)\n",
    "  im2 = Image.open(newPathB + filename)\n",
    "\n",
    "  # Combine images horizontally using PIL\n",
    "  dst = Image.new('RGB', (512, 256))\n",
    "  dst.paste(im1, (0, 0))\n",
    "  dst.paste(im2, (im1.width, 0))\n",
    "  dst.save(combinedPath + filename)"
   ]
  },
  {
   "cell_type": "code",
   "execution_count": 38,
   "metadata": {
    "colab": {},
    "colab_type": "code",
    "executionInfo": {
     "elapsed": 2816,
     "status": "ok",
     "timestamp": 1592403878071,
     "user": {
      "displayName": "Nate Peters",
      "photoUrl": "",
      "userId": "02817882008307922647"
     },
     "user_tz": 300
    },
    "id": "OEj4vZ6IvDoc"
   },
   "outputs": [],
   "source": [
    "# Train/Test Split\n",
    "# Takes the files in '../Augmented/Combined/' and randomly splits them into './Combined/Train' and './Combined/Test' directories\n",
    "os.chdir(combinedPath)\n",
    "test_dir = combinedPath + 'Test/'\n",
    "train_dir = combinedPath + 'Train/'\n",
    "\n",
    "files = os.listdir(combinedPath)\n",
    "ratio = 0.15\n",
    "\n",
    "for f in files:\n",
    "    if '.png' in f:\n",
    "      if np.random.rand(1) < ratio:\n",
    "          shutil.copyfile(combinedPath + f, test_dir + f)\n",
    "      else:\n",
    "          shutil.copyfile(combinedPath + f, train_dir + f)"
   ]
  },
  {
   "cell_type": "code",
   "execution_count": 39,
   "metadata": {
    "colab": {
     "base_uri": "https://localhost:8080/",
     "height": 34
    },
    "colab_type": "code",
    "executionInfo": {
     "elapsed": 306,
     "status": "ok",
     "timestamp": 1592403905391,
     "user": {
      "displayName": "Nate Peters",
      "photoUrl": "",
      "userId": "02817882008307922647"
     },
     "user_tz": 300
    },
    "id": "Z33V1Zo0weN7",
    "outputId": "b039468d-83af-4cea-819f-5d05824e837d"
   },
   "outputs": [
    {
     "name": "stdout",
     "output_type": "stream",
     "text": [
      "258\n"
     ]
    }
   ],
   "source": [
    "# Check that files exist in new location:\n",
    "\n",
    "# os.chdir(pathA+ '/output')\n",
    "os.chdir(train_dir)\n",
    "print(len([name for name in os.listdir('.') if os.path.isfile(name)]))"
   ]
  },
  {
   "cell_type": "code",
   "execution_count": null,
   "metadata": {},
   "outputs": [],
   "source": []
  },
  {
   "cell_type": "code",
   "execution_count": null,
   "metadata": {},
   "outputs": [],
   "source": []
  },
  {
   "cell_type": "code",
   "execution_count": null,
   "metadata": {},
   "outputs": [],
   "source": []
  },
  {
   "cell_type": "code",
   "execution_count": null,
   "metadata": {},
   "outputs": [],
   "source": []
  }
 ],
 "metadata": {
  "colab": {
   "name": "Dataset Augmentation.ipynb",
   "provenance": [
    {
     "file_id": "1M5ElHKBG7VWd-tw7Z_wWSkJANQuYsel4",
     "timestamp": 1592246915404
    }
   ]
  },
  "kernelspec": {
   "display_name": "Python 3 (ipykernel)",
   "language": "python",
   "name": "python3"
  },
  "language_info": {
   "codemirror_mode": {
    "name": "ipython",
    "version": 3
   },
   "file_extension": ".py",
   "mimetype": "text/x-python",
   "name": "python",
   "nbconvert_exporter": "python",
   "pygments_lexer": "ipython3",
   "version": "3.11.7"
  },
  "vscode": {
   "interpreter": {
    "hash": "52b4aa5f59fa7ad3daf0fa67351bd53cbef7ef4d4e43a060aee803edfa3884c7"
   }
  }
 },
 "nbformat": 4,
 "nbformat_minor": 4
}
