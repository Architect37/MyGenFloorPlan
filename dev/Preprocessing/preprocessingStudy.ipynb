{
 "cells": [
  {
   "cell_type": "code",
   "execution_count": 19,
   "metadata": {},
   "outputs": [],
   "source": [
    "from PIL import Image\n",
    "import skimage.io\n",
    "\n",
    "import os\n",
    "from pathlib import Path\n",
    "\n",
    "from matplotlib import pyplot as plt\n",
    "import numpy as np\n",
    "import math \n",
    "import os\n",
    "import shutil\n",
    "import numpy as np\n",
    "from datetime import datetime\n",
    "import cv2"
   ]
  },
  {
   "cell_type": "code",
   "execution_count": 3,
   "metadata": {},
   "outputs": [],
   "source": [
    "purple = np.array([255, 27, 255, 255])\n",
    "yellow = np.array([255, 255, 27, 255])\n",
    "blue = np.array([27, 27, 255, 255])\n",
    "red = np.array([255, 27, 27, 255])\n",
    "lightblue = np.array([27, 255, 255, 255])\n",
    "green = np.array([27, 255, 27, 255])\n",
    "orange = np.array([255, 155, 27, 255])\n",
    "white = np.array([255, 255, 255, 255])\n",
    "black = np.array([0, 0, 0, 255])\n",
    "\n",
    "rmFuncMap = {\n",
    "    'bedroom': purple,\n",
    "    'livingroom': yellow,\n",
    "    'bathroom': blue,\n",
    "    'kitchen': red,\n",
    "    'storageroom': lightblue,\n",
    "    'deckNporch': green,\n",
    "    'corridor': orange,\n",
    "    'background': white,\n",
    "}\n",
    "\n",
    "augmentedPath = Path('/home/user1/Documents/Ricky/pix2pix-floorplans-dataset/dataset/Augmented/')\n",
    "\n",
    "pathA = augmentedPath / 'A'\n",
    "pathB = augmentedPath / 'B'\n",
    "newCombinedPath = augmentedPath / f\"Combined_{datetime.now().strftime('%Y_%m_%d_%H_%M')}\" \n",
    "newCombinedPath.mkdir(parents=True, exist_ok=True)\n",
    "\n",
    "pathA_processed = augmentedPath / f\"A_processed\"\n",
    "pathA_processed.mkdir(parents=True, exist_ok=True)\n",
    "pathB_processed = augmentedPath / f\"B_processed\"\n",
    "pathB_processed.mkdir(parents=True, exist_ok=True)\n",
    "\n",
    "test_dir = newCombinedPath / 'Test'\n",
    "train_dir = newCombinedPath / 'Train'\n",
    "test_dir.mkdir(parents=True, exist_ok=True)\n",
    "train_dir.mkdir(parents=True, exist_ok=True)"
   ]
  },
  {
   "cell_type": "code",
   "execution_count": 29,
   "metadata": {},
   "outputs": [],
   "source": [
    "def replaceCloestColor(img, rmFuncMap): \n",
    "    thresh = 30\n",
    "    \n",
    "    # Select room colors that are common in the image  \n",
    "    vals, counts = np.unique(img.reshape(-1, 4), axis=0, return_counts=True)\n",
    "    \n",
    "    imgRmColor = set(map(tuple, vals[counts>thresh])) # form a set of values/counts > threshold\n",
    "    rmColorMap = set(map(tuple, rmFuncMap.values())) # form a set of room func color map\n",
    "\n",
    "    rmColor = np.array(list(imgRmColor.intersection(rmColorMap))) # Select the resonable colors in the room func map only\n",
    "    \n",
    "    # Determine color differences (Use additional dimension)\n",
    "    # Compute the shortest Euclidean distance within the color map \n",
    "    color_diffs = np.sum((img[:,:,None,:]-rmColor)**2,axis=-1)\n",
    "    \n",
    "    # Get the indices of the closest value\n",
    "    idx = np.argmin(color_diffs,axis=-1)\n",
    "\n",
    "    # Extract closest value to assemble array \n",
    "    img = rmColor[idx]\n",
    "    \n",
    "    return img \n",
    "\n",
    "def generateBlWhImg(img): \n",
    "    iswhite = (img == white).all(axis=2)\n",
    "    img[~iswhite] = black\n",
    "    return img\n",
    "\n",
    "def unblur(img):\n",
    "    sharpen_kernel = np.array([[-1,-1,-1], [-1,9,-1], [-1,-1,-1]])\n",
    "    sharpen = cv2.filter2D(img, -1, sharpen_kernel)\n",
    "    return sharpen\n",
    "\n",
    "def unblur_2(img): \n",
    "    gray = cv2.cvtColor(img[:,:], cv2.COLOR_BGR2GRAY)\n",
    "    ret2,th2 = cv2.threshold(gray,0,255,cv2.THRESH_BINARY+cv2.THRESH_OTSU)\n",
    "    return th2"
   ]
  },
  {
   "cell_type": "code",
   "execution_count": 19,
   "metadata": {},
   "outputs": [
    {
     "data": {
      "text/plain": [
       "<matplotlib.image.AxesImage at 0x7fe63ffb28d0>"
      ]
     },
     "execution_count": 19,
     "metadata": {},
     "output_type": "execute_result"
    },
    {
     "data": {
      "image/png": "[encoded data removed]",
      "text/plain": [
       "<Figure size 640x480 with 1 Axes>"
      ]
     },
     "metadata": {},
     "output_type": "display_data"
    }
   ],
   "source": [
    "myfile = Path('/home/user1/Documents/Ricky/pix2pix-floorplans-dataset/dataset/Augmented/B/0a17c81f08c8.png')\n",
    "img = skimage.io.imread(myfile)\n",
    "plt.imshow(img)"
   ]
  },
  {
   "cell_type": "code",
   "execution_count": 59,
   "metadata": {},
   "outputs": [
    {
     "name": "stdout",
     "output_type": "stream",
     "text": [
      "[[ 27  27 255 255]\n",
      " [255  27  27 255]\n",
      " [255 255 255 255]\n",
      " [ 27 255 255 255]\n",
      " [255 255  27 255]]\n"
     ]
    }
   ],
   "source": [
    "vals, counts = np.unique(img.reshape(-1, 4), axis=0, return_counts=True)\n",
    "thresh = 30\n",
    "# form a dictionary of values/counts > threshold\n",
    "out = set(map(tuple, vals[counts>thresh])) \n",
    "rmColor = set(map(tuple, rmFuncMap.values()))\n",
    "\n",
    "print(np.array(list(out.intersection(rmColor))))\n",
    "\n",
    "# rgb = img[:,:,0:3]\n",
    "# segments_fz = felzenszwalb(rgb, scale=100, sigma=0.1, min_size=80)\n",
    "# print(segments_fz.shape)\n",
    "# print(segments_fz)\n",
    "# unique_pix_val = np.unique(segments_fz.reshape(-1), axis=0)\n",
    "# print(unique_pix_val)\n",
    "# result = mark_boundaries(rgb, segments_fz)\n",
    "# plt.imshow(result)"
   ]
  },
  {
   "cell_type": "code",
   "execution_count": 30,
   "metadata": {},
   "outputs": [
    {
     "name": "stdout",
     "output_type": "stream",
     "text": [
      "[[ 27  27 255 255]\n",
      " [ 27 255 255 255]\n",
      " [255  27  27 255]\n",
      " [255 255  27 255]\n",
      " [255 255 255 255]]\n"
     ]
    },
    {
     "data": {
      "image/png": "[encoded data removed]",
      "text/plain": [
       "<Figure size 640x480 with 1 Axes>"
      ]
     },
     "metadata": {},
     "output_type": "display_data"
    }
   ],
   "source": [
    "myfile = Path('/home/user1/Documents/Ricky/pix2pix-floorplans-dataset/dataset/Augmented/B/0a17c81f08c8.png')\n",
    "img = skimage.io.imread(myfile)\n",
    "\n",
    "# img = generateBlWhImg(img.copy())\n",
    "img = replaceCloestColor(img.copy(), rmFuncMap)\n",
    "plt.imshow(img)\n",
    "unique_pix_val = np.unique(img.reshape(-1, 4), axis=0)\n",
    "print(unique_pix_val)"
   ]
  },
  {
   "cell_type": "code",
   "execution_count": 32,
   "metadata": {},
   "outputs": [
    {
     "name": "stdout",
     "output_type": "stream",
     "text": [
      "[[ 35  35  35 255]\n",
      " [ 38  38  38 255]\n",
      " [ 42  42  42 255]\n",
      " [ 43  43  43 255]\n",
      " [ 44  44  44 255]\n",
      " [ 45  45  45 255]\n",
      " [ 47  47  47 255]\n",
      " [ 49  49  49 255]\n",
      " [ 50  50  50 255]\n",
      " [ 53  53  53 255]\n",
      " [ 55  55  55 255]\n",
      " [ 56  56  56 255]\n",
      " [ 57  57  57 255]\n",
      " [ 58  58  58 255]\n",
      " [ 59  59  59 255]\n",
      " [ 60  60  60 255]\n",
      " [ 61  61  61 255]\n",
      " [ 62  62  62 255]\n",
      " [ 63  63  63 255]\n",
      " [ 64  64  64 255]\n",
      " [ 66  66  66 255]\n",
      " [ 67  67  67 255]\n",
      " [ 68  68  68 255]\n",
      " [ 69  69  69 255]\n",
      " [ 70  70  70 255]\n",
      " [ 71  71  71 255]\n",
      " [ 72  72  72 255]\n",
      " [ 73  73  73 255]\n",
      " [ 74  74  74 255]\n",
      " [ 75  75  75 255]\n",
      " [ 76  76  76 255]\n",
      " [ 77  77  77 255]\n",
      " [ 78  78  78 255]\n",
      " [ 79  79  79 255]\n",
      " [ 80  80  80 255]\n",
      " [ 81  81  81 255]\n",
      " [ 82  82  82 255]\n",
      " [ 83  83  83 255]\n",
      " [ 84  84  84 255]\n",
      " [ 85  85  85 255]\n",
      " [ 86  86  86 255]\n",
      " [ 87  87  87 255]\n",
      " [ 88  88  88 255]\n",
      " [ 89  89  89 255]\n",
      " [ 90  90  90 255]\n",
      " [ 91  91  91 255]\n",
      " [ 92  92  92 255]\n",
      " [ 93  93  93 255]\n",
      " [ 94  94  94 255]\n",
      " [ 95  95  95 255]\n",
      " [ 96  96  96 255]\n",
      " [ 97  97  97 255]\n",
      " [ 98  98  98 255]\n",
      " [ 99  99  99 255]\n",
      " [100 100 100 255]\n",
      " [101 101 101 255]\n",
      " [102 102 102 255]\n",
      " [103 103 103 255]\n",
      " [104 104 104 255]\n",
      " [105 105 105 255]\n",
      " [106 106 106 255]\n",
      " [107 107 107 255]\n",
      " [108 108 108 255]\n",
      " [109 109 109 255]\n",
      " [110 110 110 255]\n",
      " [111 111 111 255]\n",
      " [112 112 112 255]\n",
      " [113 113 113 255]\n",
      " [114 114 114 255]\n",
      " [115 115 115 255]\n",
      " [116 116 116 255]\n",
      " [117 117 117 255]\n",
      " [118 118 118 255]\n",
      " [119 119 119 255]\n",
      " [120 120 120 255]\n",
      " [121 121 121 255]\n",
      " [122 122 122 255]\n",
      " [123 123 123 255]\n",
      " [124 124 124 255]\n",
      " [125 125 125 255]\n",
      " [126 126 126 255]\n",
      " [127 127 127 255]\n",
      " [128 128 128 255]\n",
      " [129 129 129 255]\n",
      " [130 130 130 255]\n",
      " [131 131 131 255]\n",
      " [132 132 132 255]\n",
      " [133 133 133 255]\n",
      " [134 134 134 255]\n",
      " [135 135 135 255]\n",
      " [136 136 136 255]\n",
      " [137 137 137 255]\n",
      " [138 138 138 255]\n",
      " [139 139 139 255]\n",
      " [140 140 140 255]\n",
      " [141 141 141 255]\n",
      " [142 142 142 255]\n",
      " [143 143 143 255]\n",
      " [144 144 144 255]\n",
      " [145 145 145 255]\n",
      " [146 146 146 255]\n",
      " [147 147 147 255]\n",
      " [148 148 148 255]\n",
      " [149 149 149 255]\n",
      " [150 150 150 255]\n",
      " [151 151 151 255]\n",
      " [152 152 152 255]\n",
      " [153 153 153 255]\n",
      " [154 154 154 255]\n",
      " [155 155 155 255]\n",
      " [156 156 156 255]\n",
      " [157 157 157 255]\n",
      " [158 158 158 255]\n",
      " [159 159 159 255]\n",
      " [160 160 160 255]\n",
      " [161 161 161 255]\n",
      " [162 162 162 255]\n",
      " [163 163 163 255]\n",
      " [164 164 164 255]\n",
      " [165 165 165 255]\n",
      " [166 166 166 255]\n",
      " [167 167 167 255]\n",
      " [168 168 168 255]\n",
      " [169 169 169 255]\n",
      " [170 170 170 255]\n",
      " [171 171 171 255]\n",
      " [172 172 172 255]\n",
      " [173 173 173 255]\n",
      " [174 174 174 255]\n",
      " [175 175 175 255]\n",
      " [176 176 176 255]\n",
      " [177 177 177 255]\n",
      " [178 178 178 255]\n",
      " [179 179 179 255]\n",
      " [180 180 180 255]\n",
      " [181 181 181 255]\n",
      " [182 182 182 255]\n",
      " [183 183 183 255]\n",
      " [184 184 184 255]\n",
      " [185 185 185 255]\n",
      " [186 186 186 255]\n",
      " [187 187 187 255]\n",
      " [188 188 188 255]\n",
      " [189 189 189 255]\n",
      " [190 190 190 255]\n",
      " [191 191 191 255]\n",
      " [192 192 192 255]\n",
      " [193 193 193 255]\n",
      " [194 194 194 255]\n",
      " [195 195 195 255]\n",
      " [196 196 196 255]\n",
      " [197 197 197 255]\n",
      " [198 198 198 255]\n",
      " [199 199 199 255]\n",
      " [200 200 200 255]\n",
      " [201 201 201 255]\n",
      " [202 202 202 255]\n",
      " [203 203 203 255]\n",
      " [204 204 204 255]\n",
      " [205 205 205 255]\n",
      " [206 206 206 255]\n",
      " [207 207 207 255]\n",
      " [208 208 208 255]\n",
      " [209 209 209 255]\n",
      " [210 210 210 255]\n",
      " [211 211 211 255]\n",
      " [212 212 212 255]\n",
      " [213 213 213 255]\n",
      " [214 214 214 255]\n",
      " [215 215 215 255]\n",
      " [216 216 216 255]\n",
      " [217 217 217 255]\n",
      " [218 218 218 255]\n",
      " [219 219 219 255]\n",
      " [220 220 220 255]\n",
      " [221 221 221 255]\n",
      " [222 222 222 255]\n",
      " [223 223 223 255]\n",
      " [224 224 224 255]\n",
      " [225 225 225 255]\n",
      " [226 226 226 255]\n",
      " [227 227 227 255]\n",
      " [228 228 228 255]\n",
      " [229 229 229 255]\n",
      " [230 230 230 255]\n",
      " [231 231 231 255]\n",
      " [232 232 232 255]\n",
      " [233 233 233 255]\n",
      " [234 234 234 255]\n",
      " [235 235 235 255]\n",
      " [236 236 236 255]\n",
      " [237 237 237 255]\n",
      " [238 238 238 255]\n",
      " [239 239 239 255]\n",
      " [240 240 240 255]\n",
      " [241 241 241 255]\n",
      " [242 242 242 255]\n",
      " [243 243 243 255]\n",
      " [244 244 244 255]\n",
      " [245 245 245 255]\n",
      " [246 246 246 255]\n",
      " [247 247 247 255]\n",
      " [248 248 248 255]\n",
      " [249 249 249 255]\n",
      " [250 250 250 255]\n",
      " [251 251 251 255]\n",
      " [252 252 252 255]\n",
      " [253 253 253 255]\n",
      " [254 254 254 255]\n",
      " [255 255 255 255]]\n"
     ]
    },
    {
     "data": {
      "image/png": "[encoded data removed]",
      "text/plain": [
       "<Figure size 640x480 with 1 Axes>"
      ]
     },
     "metadata": {},
     "output_type": "display_data"
    }
   ],
   "source": [
    "myfile = Path('/home/user1/Documents/Ricky/pix2pix-floorplans-dataset/dataset/Source Images/0.png')\n",
    "img = skimage.io.imread(myfile)\n",
    "\n",
    "# img = generateBlWhImg(img.copy())\n",
    "img = unblur(img.copy())\n",
    "plt.imshow(img)\n",
    "unique_pix_val = np.unique(img.reshape(-1, 4), axis=0)\n",
    "print(unique_pix_val)"
   ]
  },
  {
   "cell_type": "code",
   "execution_count": 68,
   "metadata": {},
   "outputs": [],
   "source": [
    "for path in pathB.glob(\"*.png\"):\n",
    "    img = skimage.io.imread(path)\n",
    "    img = replaceCloestColor(img, rmFuncMap)\n",
    "    skimage.io.imsave(pathB_processed / path.name, img)"
   ]
  },
  {
   "cell_type": "code",
   "execution_count": 33,
   "metadata": {},
   "outputs": [
    {
     "ename": "ValueError",
     "evalue": "all the input arrays must have same number of dimensions, but the array at index 0 has 1 dimension(s) and the array at index 1 has 3 dimension(s)",
     "output_type": "error",
     "traceback": [
      "\u001b[0;31m---------------------------------------------------------------------------\u001b[0m",
      "\u001b[0;31mValueError\u001b[0m                                Traceback (most recent call last)",
      "\u001b[0;32m/tmp/ipykernel_47567/154429939.py\u001b[0m in \u001b[0;36m<module>\u001b[0;34m\u001b[0m\n\u001b[1;32m      4\u001b[0m   \u001b[0mim1\u001b[0m \u001b[0;34m=\u001b[0m \u001b[0;32mNone\u001b[0m\u001b[0;34m\u001b[0m\u001b[0m\n\u001b[1;32m      5\u001b[0m   \u001b[0;31m# Combine images horizontally using PIL\u001b[0m\u001b[0;34m\u001b[0m\u001b[0;34m\u001b[0m\u001b[0m\n\u001b[0;32m----> 6\u001b[0;31m   \u001b[0mdst\u001b[0m \u001b[0;34m=\u001b[0m \u001b[0mnp\u001b[0m\u001b[0;34m.\u001b[0m\u001b[0mhstack\u001b[0m\u001b[0;34m(\u001b[0m\u001b[0;34m(\u001b[0m\u001b[0mim1\u001b[0m\u001b[0;34m,\u001b[0m \u001b[0mim2\u001b[0m\u001b[0;34m)\u001b[0m\u001b[0;34m)\u001b[0m\u001b[0;34m\u001b[0m\u001b[0m\n\u001b[0m\u001b[1;32m      7\u001b[0m   \u001b[0mskimage\u001b[0m\u001b[0;34m.\u001b[0m\u001b[0mio\u001b[0m\u001b[0;34m.\u001b[0m\u001b[0mimsave\u001b[0m\u001b[0;34m(\u001b[0m\u001b[0mnewCombinedPath\u001b[0m \u001b[0;34m/\u001b[0m \u001b[0mfile\u001b[0m\u001b[0;34m.\u001b[0m\u001b[0mname\u001b[0m\u001b[0;34m,\u001b[0m \u001b[0mdst\u001b[0m\u001b[0;34m)\u001b[0m\u001b[0;34m\u001b[0m\u001b[0m\n",
      "\u001b[0;32m<__array_function__ internals>\u001b[0m in \u001b[0;36mhstack\u001b[0;34m(*args, **kwargs)\u001b[0m\n",
      "\u001b[0;32m~/anaconda3/envs/pix2pix/lib/python3.7/site-packages/numpy/core/shape_base.py\u001b[0m in \u001b[0;36mhstack\u001b[0;34m(tup)\u001b[0m\n\u001b[1;32m    341\u001b[0m     \u001b[0;31m# As a special case, dimension 0 of 1-dimensional arrays is \"horizontal\"\u001b[0m\u001b[0;34m\u001b[0m\u001b[0;34m\u001b[0m\u001b[0m\n\u001b[1;32m    342\u001b[0m     \u001b[0;32mif\u001b[0m \u001b[0marrs\u001b[0m \u001b[0;32mand\u001b[0m \u001b[0marrs\u001b[0m\u001b[0;34m[\u001b[0m\u001b[0;36m0\u001b[0m\u001b[0;34m]\u001b[0m\u001b[0;34m.\u001b[0m\u001b[0mndim\u001b[0m \u001b[0;34m==\u001b[0m \u001b[0;36m1\u001b[0m\u001b[0;34m:\u001b[0m\u001b[0;34m\u001b[0m\u001b[0m\n\u001b[0;32m--> 343\u001b[0;31m         \u001b[0;32mreturn\u001b[0m \u001b[0m_nx\u001b[0m\u001b[0;34m.\u001b[0m\u001b[0mconcatenate\u001b[0m\u001b[0;34m(\u001b[0m\u001b[0marrs\u001b[0m\u001b[0;34m,\u001b[0m \u001b[0;36m0\u001b[0m\u001b[0;34m)\u001b[0m\u001b[0;34m\u001b[0m\u001b[0m\n\u001b[0m\u001b[1;32m    344\u001b[0m     \u001b[0;32melse\u001b[0m\u001b[0;34m:\u001b[0m\u001b[0;34m\u001b[0m\u001b[0m\n\u001b[1;32m    345\u001b[0m         \u001b[0;32mreturn\u001b[0m \u001b[0m_nx\u001b[0m\u001b[0;34m.\u001b[0m\u001b[0mconcatenate\u001b[0m\u001b[0;34m(\u001b[0m\u001b[0marrs\u001b[0m\u001b[0;34m,\u001b[0m \u001b[0;36m1\u001b[0m\u001b[0;34m)\u001b[0m\u001b[0;34m\u001b[0m\u001b[0m\n",
      "\u001b[0;32m<__array_function__ internals>\u001b[0m in \u001b[0;36mconcatenate\u001b[0;34m(*args, **kwargs)\u001b[0m\n",
      "\u001b[0;31mValueError\u001b[0m: all the input arrays must have same number of dimensions, but the array at index 0 has 1 dimension(s) and the array at index 1 has 3 dimension(s)"
     ]
    }
   ],
   "source": [
    "\n",
    "for file in pathB_processed.glob(\"*.png\"):\n",
    "  # im1 = np.full_like(y, [0, 0, 0, 255])\n",
    "  im2 = skimage.io.imread(file)\n",
    "  im1 = None\n",
    "  # Combine images horizontally using PIL\n",
    "  dst = np.hstack((im1, im2))\n",
    "  skimage.io.imsave(newCombinedPath / file.name, dst)"
   ]
  },
  {
   "cell_type": "code",
   "execution_count": 216,
   "metadata": {},
   "outputs": [],
   "source": [
    "\n",
    "ratio = 0.15\n",
    "\n",
    "for file in newCombinedPath.glob(\"*.png\"):\n",
    "      if np.random.rand(1) < ratio:\n",
    "          shutil.copyfile(file, test_dir / file.name)\n",
    "      else:\n",
    "          shutil.copyfile(file, train_dir / file.name)"
   ]
  },
  {
   "cell_type": "code",
   "execution_count": 177,
   "metadata": {},
   "outputs": [
    {
     "name": "stdout",
     "output_type": "stream",
     "text": [
      "245\n"
     ]
    }
   ],
   "source": [
    "os.chdir(str(train_dir))\n",
    "print(len([name for name in os.listdir('.') if os.path.isfile(name)]))"
   ]
  },
  {
   "cell_type": "code",
   "execution_count": 217,
   "metadata": {},
   "outputs": [
    {
     "name": "stdout",
     "output_type": "stream",
     "text": [
      "[[  0   0   0 255]\n",
      " [ 27  27 255 255]\n",
      " [ 27 255 255 255]\n",
      " [255  27  27 255]\n",
      " [255 255  27 255]\n",
      " [255 255 255 255]]\n",
      "(6, 4)\n"
     ]
    },
    {
     "data": {
      "image/png": "[encoded data removed]",
      "text/plain": [
       "<Figure size 640x480 with 1 Axes>"
      ]
     },
     "metadata": {},
     "output_type": "display_data"
    }
   ],
   "source": [
    "myfile = Path('/home/user1/Documents/Ricky/pix2pix-floorplans-dataset/dataset/Augmented/Combined_2023_03_06_18_39/Train/0a17c81f08c8.png')\n",
    "img = skimage.io.imread(myfile)\n",
    "\n",
    "\n",
    "# Combine images horizontally using PIL\n",
    "# dst = np.hstack((im1, img))\n",
    "# plt.imshow(im1)\n",
    "\n",
    "plt.imshow(img)\n",
    "unique_pix_val = np.unique(img.reshape(-1, 4), axis=0)\n",
    "print(unique_pix_val)\n",
    "print(unique_pix_val.shape)"
   ]
  }
 ],
 "metadata": {
  "kernelspec": {
   "display_name": "pix2pix",
   "language": "python",
   "name": "python3"
  },
  "language_info": {
   "codemirror_mode": {
    "name": "ipython",
    "version": 3
   },
   "file_extension": ".py",
   "mimetype": "text/x-python",
   "name": "python",
   "nbconvert_exporter": "python",
   "pygments_lexer": "ipython3",
   "version": "3.7.0"
  },
  "orig_nbformat": 4,
  "vscode": {
   "interpreter": {
    "hash": "52b4aa5f59fa7ad3daf0fa67351bd53cbef7ef4d4e43a060aee803edfa3884c7"
   }
  }
 },
 "nbformat": 4,
 "nbformat_minor": 2
}
